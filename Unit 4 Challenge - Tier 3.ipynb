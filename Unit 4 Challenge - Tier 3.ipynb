{
 "cells": [
  {
   "cell_type": "markdown",
   "metadata": {
    "colab_type": "text",
    "id": "Tia3MP1SJpgj"
   },
   "source": [
    "# Springboard Data Science Career Track Unit 4 Challenge - Tier 3 Complete\n",
    "\n",
    "## Objectives\n",
    "Hey! Great job getting through those challenging DataCamp courses. You're learning a lot in a short span of time. \n",
    "\n",
    "In this notebook, you're going to apply the skills you've been learning, bridging the gap between the controlled environment of DataCamp and the *slightly* messier work that data scientists do with actual datasets!\n",
    "\n",
    "Here’s the mystery we’re going to solve: ***which boroughs of London have seen the greatest increase in housing prices, on average, over the last two decades?***\n",
    "\n",
    "\n",
    "A borough is just a fancy word for district. You may be familiar with the five boroughs of New York… well, there are 32 boroughs within Greater London [(here's some info for the curious)](https://en.wikipedia.org/wiki/London_boroughs). Some of them are more desirable areas to live in, and the data will reflect that with a greater rise in housing prices.\n",
    "\n",
    "***This is the Tier 3 notebook, which means it's not filled in at all: we'll just give you the skeleton of a project, the brief and the data. It's up to you to play around with it and see what you can find out! Good luck! If you struggle, feel free to look at easier tiers for help; but try to dip in and out of them, as the more independent work you do, the better it is for your learning!***\n",
    "\n",
    "This challenge will make use of only what you learned in the following DataCamp courses: \n",
    "- Prework courses (Introduction to Python for Data Science, Intermediate Python for Data Science)\n",
    "- Data Types for Data Science\n",
    "- Python Data Science Toolbox (Part One) \n",
    "- pandas Foundations\n",
    "- Manipulating DataFrames with pandas\n",
    "- Merging DataFrames with pandas\n",
    "\n",
    "Of the tools, techniques and concepts in the above DataCamp courses, this challenge should require the application of the following: \n",
    "- **pandas**\n",
    "    - **data ingestion and inspection** (pandas Foundations, Module One) \n",
    "    - **exploratory data analysis** (pandas Foundations, Module Two)\n",
    "    - **tidying and cleaning** (Manipulating DataFrames with pandas, Module Three) \n",
    "    - **transforming DataFrames** (Manipulating DataFrames with pandas, Module One)\n",
    "    - **subsetting DataFrames with lists** (Manipulating DataFrames with pandas, Module One) \n",
    "    - **filtering DataFrames** (Manipulating DataFrames with pandas, Module One) \n",
    "    - **grouping data** (Manipulating DataFrames with pandas, Module Four) \n",
    "    - **melting data** (Manipulating DataFrames with pandas, Module Three) \n",
    "    - **advanced indexing** (Manipulating DataFrames with pandas, Module Four) \n",
    "- **matplotlib** (Intermediate Python for Data Science, Module One)\n",
    "- **fundamental data types** (Data Types for Data Science, Module One) \n",
    "- **dictionaries** (Intermediate Python for Data Science, Module Two)\n",
    "- **handling dates and times** (Data Types for Data Science, Module Four)\n",
    "- **function definition** (Python Data Science Toolbox - Part One, Module One)\n",
    "- **default arguments, variable length, and scope** (Python Data Science Toolbox - Part One, Module Two) \n",
    "- **lambda functions and error handling** (Python Data Science Toolbox - Part One, Module Four) "
   ]
  },
  {
   "cell_type": "markdown",
   "metadata": {
    "colab_type": "text",
    "id": "Ipgd2nV8Jpgl"
   },
   "source": [
    "## The Data Science Pipeline\n",
    "\n",
    "This is Tier Three, so we'll get you started. But after that, it's all in your hands! When you feel done with your investigations, look back over what you've accomplished, and prepare a quick presentation of your findings for the next mentor meeting. \n",
    "\n",
    "Data Science is magical. In this case study, you'll get to apply some complex machine learning algorithms. But as  [David Spiegelhalter](https://www.youtube.com/watch?v=oUs1uvsz0Ok) reminds us, there is no substitute for simply **taking a really, really good look at the data.** Sometimes, this is all we need to answer our question.\n",
    "\n",
    "Data Science projects generally adhere to the four stages of Data Science Pipeline:\n",
    "1. Sourcing and loading \n",
    "2. Cleaning, transforming, and visualizing \n",
    "3. Modeling \n",
    "4. Evaluating and concluding \n"
   ]
  },
  {
   "cell_type": "markdown",
   "metadata": {
    "colab_type": "text",
    "id": "zswDqbefJpgm"
   },
   "source": [
    "### 1. Sourcing and Loading \n",
    "\n",
    "Any Data Science project kicks off by importing  ***pandas***. The documentation of this wonderful library can be found [here](https://pandas.pydata.org/). As you've seen, pandas is conveniently connected to the [Numpy](http://www.numpy.org/) and [Matplotlib](https://matplotlib.org/) libraries. \n",
    "\n",
    "***Hint:*** This part of the data science pipeline will test those skills you acquired in the pandas Foundations course, Module One. "
   ]
  },
  {
   "cell_type": "markdown",
   "metadata": {
    "colab_type": "text",
    "id": "aEau5nEvJpgm"
   },
   "source": [
    "#### 1.1. Importing Libraries"
   ]
  },
  {
   "cell_type": "code",
   "execution_count": 1,
   "metadata": {
    "colab": {},
    "colab_type": "code",
    "id": "7Bt_Q_oPJpgn"
   },
   "outputs": [],
   "source": [
    "# Let's import the pandas, numpy libraries as pd, and np respectively. \n",
    "import pandas as pd\n",
    "import numpy as np\n",
    "import datetime\n",
    "\n",
    "# Load the pyplot collection of functions from matplotlib, as plt \n",
    "import matplotlib.pyplot as plt"
   ]
  },
  {
   "cell_type": "markdown",
   "metadata": {
    "colab_type": "text",
    "id": "koUrawxsJpgq"
   },
   "source": [
    "#### 1.2.  Loading the data\n",
    "Your data comes from the [London Datastore](https://data.london.gov.uk/): a free, open-source data-sharing portal for London-oriented datasets. "
   ]
  },
  {
   "cell_type": "code",
   "execution_count": 2,
   "metadata": {
    "colab": {},
    "colab_type": "code",
    "id": "AiLiD4v3Jpgr"
   },
   "outputs": [],
   "source": [
    "# First, make a variable called url_LondonHousePrices, and assign it the following link, enclosed in quotation-marks as a string:\n",
    "# https://data.london.gov.uk/download/uk-house-price-index/70ac0766-8902-4eb5-aab5-01951aaed773/UK%20House%20price%20index.xls\n",
    "\n",
    "url_LondonHousePrices = \"https://data.london.gov.uk/download/uk-house-price-index/70ac0766-8902-4eb5-aab5-01951aaed773/UK%20House%20price%20index.xls\"\n",
    "\n",
    "# The dataset we're interested in contains the Average prices of the houses, and is actually on a particular sheet of the Excel file. \n",
    "# As a result, we need to specify the sheet name in the read_excel() method.\n",
    "# Put this data into a variable called properties.  \n",
    "properties = pd.read_excel(url_LondonHousePrices, sheet_name='Average price', index_col= None)"
   ]
  },
  {
   "cell_type": "markdown",
   "metadata": {
    "colab_type": "text",
    "id": "POukEJXgJpgu"
   },
   "source": [
    "### 2. Cleaning, transforming, and visualizing\n",
    "This second stage is arguably the most important part of any Data Science project. The first thing to do is take a proper look at the data. Cleaning forms the majority of this stage, and can be done both before or after Transformation.\n",
    "\n",
    "The end goal of data cleaning is to have tidy data. When data is tidy: \n",
    "\n",
    "1. Each variable has a column.\n",
    "2. Each observation forms a row.\n",
    "\n",
    "Keep the end goal in mind as you move through this process, every step will take you closer. \n",
    "\n",
    "\n",
    "\n",
    "***Hint:*** This part of the data science pipeline should test those skills you acquired in: \n",
    "- Intermediate Python for data science, all modules.\n",
    "- pandas Foundations, all modules. \n",
    "- Manipulating DataFrames with pandas, all modules.\n",
    "- Data Types for Data Science, Module Four.\n",
    "- Python Data Science Toolbox - Part One, all modules"
   ]
  },
  {
   "cell_type": "markdown",
   "metadata": {
    "colab_type": "text",
    "id": "Te0Q548tnzZa"
   },
   "source": [
    "**2.1. Exploring your data** \n",
    "\n",
    "Think about your pandas functions for checking out a dataframe. "
   ]
  },
  {
   "cell_type": "code",
   "execution_count": 3,
   "metadata": {
    "colab": {},
    "colab_type": "code",
    "id": "Rxirxw_qoAJa"
   },
   "outputs": [
    {
     "name": "stdout",
     "output_type": "stream",
     "text": [
      "  Unnamed: 0 City of London Barking & Dagenham     Barnet     Bexley  \\\n",
      "0        NaT      E09000001          E09000002  E09000003  E09000004   \n",
      "1 1995-01-01          91449            50460.2    93284.5    64958.1   \n",
      "2 1995-02-01        82202.8            51085.8    93190.2    64787.9   \n",
      "3 1995-03-01        79120.7              51269    92247.5    64367.5   \n",
      "4 1995-04-01        77101.2            53133.5    90762.9    64277.7   \n",
      "\n",
      "       Brent    Bromley     Camden    Croydon     Ealing  ... NORTH WEST  \\\n",
      "0  E09000005  E09000006  E09000007  E09000008  E09000009  ...  E12000002   \n",
      "1    71306.6    81671.5     120933    69158.2    79885.9  ...    43958.5   \n",
      "2    72022.3    81657.6     119509    68951.1    80897.1  ...    43925.4   \n",
      "3    72015.8    81449.3     120282    68712.4    81379.9  ...    44434.9   \n",
      "4    72965.6    81124.4     120098      68610    82188.9  ...    44267.8   \n",
      "\n",
      "  YORKS & THE HUMBER EAST MIDLANDS WEST MIDLANDS EAST OF ENGLAND     LONDON  \\\n",
      "0          E12000003     E12000004     E12000005       E12000006  E12000007   \n",
      "1            44803.4       45544.5       48527.5         56701.6    74435.8   \n",
      "2            44528.8       46051.6       49341.3         56593.6    72777.9   \n",
      "3            45200.5       45383.8       49442.2         56171.2    73896.8   \n",
      "4            45614.3       46124.2       49455.9         56567.9    74455.3   \n",
      "\n",
      "  SOUTH EAST SOUTH WEST Unnamed: 47    England  \n",
      "0  E12000008  E12000009         NaN  E92000001  \n",
      "1    64018.9    54705.2         NaN    53202.8  \n",
      "2      63715    54356.1         NaN    53096.2  \n",
      "3    64113.6    53583.1         NaN    53201.3  \n",
      "4    64623.2      54786         NaN    53590.9  \n",
      "\n",
      "[5 rows x 49 columns]\n",
      "<class 'pandas.core.frame.DataFrame'>\n",
      "RangeIndex: 310 entries, 0 to 309\n",
      "Data columns (total 49 columns):\n",
      " #   Column                Non-Null Count  Dtype         \n",
      "---  ------                --------------  -----         \n",
      " 0   Unnamed: 0            309 non-null    datetime64[ns]\n",
      " 1   City of London        310 non-null    object        \n",
      " 2   Barking & Dagenham    310 non-null    object        \n",
      " 3   Barnet                310 non-null    object        \n",
      " 4   Bexley                310 non-null    object        \n",
      " 5   Brent                 310 non-null    object        \n",
      " 6   Bromley               310 non-null    object        \n",
      " 7   Camden                310 non-null    object        \n",
      " 8   Croydon               310 non-null    object        \n",
      " 9   Ealing                310 non-null    object        \n",
      " 10  Enfield               310 non-null    object        \n",
      " 11  Greenwich             310 non-null    object        \n",
      " 12  Hackney               310 non-null    object        \n",
      " 13  Hammersmith & Fulham  310 non-null    object        \n",
      " 14  Haringey              310 non-null    object        \n",
      " 15  Harrow                310 non-null    object        \n",
      " 16  Havering              310 non-null    object        \n",
      " 17  Hillingdon            310 non-null    object        \n",
      " 18  Hounslow              310 non-null    object        \n",
      " 19  Islington             310 non-null    object        \n",
      " 20  Kensington & Chelsea  310 non-null    object        \n",
      " 21  Kingston upon Thames  310 non-null    object        \n",
      " 22  Lambeth               310 non-null    object        \n",
      " 23  Lewisham              310 non-null    object        \n",
      " 24  Merton                310 non-null    object        \n",
      " 25  Newham                310 non-null    object        \n",
      " 26  Redbridge             310 non-null    object        \n",
      " 27  Richmond upon Thames  310 non-null    object        \n",
      " 28  Southwark             310 non-null    object        \n",
      " 29  Sutton                310 non-null    object        \n",
      " 30  Tower Hamlets         310 non-null    object        \n",
      " 31  Waltham Forest        310 non-null    object        \n",
      " 32  Wandsworth            310 non-null    object        \n",
      " 33  Westminster           310 non-null    object        \n",
      " 34  Unnamed: 34           0 non-null      float64       \n",
      " 35  Inner London          310 non-null    object        \n",
      " 36  Outer London          310 non-null    object        \n",
      " 37  Unnamed: 37           0 non-null      float64       \n",
      " 38  NORTH EAST            310 non-null    object        \n",
      " 39  NORTH WEST            310 non-null    object        \n",
      " 40  YORKS & THE HUMBER    310 non-null    object        \n",
      " 41  EAST MIDLANDS         310 non-null    object        \n",
      " 42  WEST MIDLANDS         310 non-null    object        \n",
      " 43  EAST OF ENGLAND       310 non-null    object        \n",
      " 44  LONDON                310 non-null    object        \n",
      " 45  SOUTH EAST            310 non-null    object        \n",
      " 46  SOUTH WEST            310 non-null    object        \n",
      " 47  Unnamed: 47           0 non-null      float64       \n",
      " 48  England               310 non-null    object        \n",
      "dtypes: datetime64[ns](1), float64(3), object(45)\n",
      "memory usage: 118.8+ KB\n"
     ]
    }
   ],
   "source": [
    "print(properties.head())\n",
    "properties.info()"
   ]
  },
  {
   "cell_type": "markdown",
   "metadata": {
    "colab_type": "text",
    "id": "tE9Sqt9-oAta"
   },
   "source": [
    "**2.2. Cleaning the data**\n",
    "\n",
    "You might find you need to transpose your dataframe, check out what its row indexes are, and reset the index. You  also might find you need to assign the values of the first row to your column headings  . (Hint: recall the .columns feature of DataFrames, as well as the iloc[] method).\n",
    "\n",
    "Don't be afraid to use StackOverflow for help  with this."
   ]
  },
  {
   "cell_type": "code",
   "execution_count": 4,
   "metadata": {
    "colab": {},
    "colab_type": "code",
    "id": "cdAu1A3YoH_r"
   },
   "outputs": [],
   "source": [
    "properties = properties.transpose()\n",
    "properties = properties.reset_index()\n"
   ]
  },
  {
   "cell_type": "markdown",
   "metadata": {
    "colab_type": "text",
    "id": "o1uLbJAsoIjK"
   },
   "source": [
    "**2.3. Cleaning the data (part 2)**\n",
    "\n",
    "You might we have to **rename** a couple columns. How do you do this? The clue's pretty bold..."
   ]
  },
  {
   "cell_type": "code",
   "execution_count": 5,
   "metadata": {},
   "outputs": [],
   "source": [
    "properties.columns = properties.iloc[0]\n",
    "properties = properties[1:]\n",
    "properties.rename(columns={properties.columns[0]: \"Borough\" }, inplace = True)\n",
    "properties.rename(columns={properties.columns[1]: \"ID\" }, inplace = True)"
   ]
  },
  {
   "cell_type": "markdown",
   "metadata": {
    "colab_type": "text",
    "id": "jy8BzXHmoWEw"
   },
   "source": [
    "**2.4.Transforming the data**\n",
    "\n",
    "Remember what Wes McKinney said about tidy data? \n",
    "\n",
    "You might need to **melt** your DataFrame here. "
   ]
  },
  {
   "cell_type": "code",
   "execution_count": 6,
   "metadata": {
    "colab": {},
    "colab_type": "code",
    "id": "S2wM0qLuo2Zt"
   },
   "outputs": [
    {
     "name": "stdout",
     "output_type": "stream",
     "text": [
      "                 Borough         ID       Date    Price\n",
      "0         City of London  E09000001 1995-01-01    91449\n",
      "1     Barking & Dagenham  E09000002 1995-01-01  50460.2\n",
      "2                 Barnet  E09000003 1995-01-01  93284.5\n",
      "3                 Bexley  E09000004 1995-01-01  64958.1\n",
      "4                  Brent  E09000005 1995-01-01  71306.6\n",
      "5                Bromley  E09000006 1995-01-01  81671.5\n",
      "6                 Camden  E09000007 1995-01-01   120933\n",
      "7                Croydon  E09000008 1995-01-01  69158.2\n",
      "8                 Ealing  E09000009 1995-01-01  79885.9\n",
      "9                Enfield  E09000010 1995-01-01  72514.7\n",
      "10             Greenwich  E09000011 1995-01-01  62300.1\n",
      "11               Hackney  E09000012 1995-01-01  61296.5\n",
      "12  Hammersmith & Fulham  E09000013 1995-01-01   124903\n",
      "13              Haringey  E09000014 1995-01-01  76287.6\n",
      "14                Harrow  E09000015 1995-01-01  84769.5\n",
      "15              Havering  E09000016 1995-01-01  68000.1\n",
      "16            Hillingdon  E09000017 1995-01-01  73834.8\n",
      "17              Hounslow  E09000018 1995-01-01  72231.7\n",
      "18             Islington  E09000019 1995-01-01  92516.5\n",
      "19  Kensington & Chelsea  E09000020 1995-01-01   182695\n",
      "20  Kingston upon Thames  E09000021 1995-01-01  80875.8\n",
      "21               Lambeth  E09000022 1995-01-01    67771\n",
      "22              Lewisham  E09000023 1995-01-01  60491.3\n",
      "23                Merton  E09000024 1995-01-01  82070.6\n",
      "24                Newham  E09000025 1995-01-01  53539.3\n",
      "25             Redbridge  E09000026 1995-01-01  72189.6\n",
      "26  Richmond upon Thames  E09000027 1995-01-01   109326\n",
      "27             Southwark  E09000028 1995-01-01  67885.2\n",
      "28                Sutton  E09000029 1995-01-01    71537\n",
      "29         Tower Hamlets  E09000030 1995-01-01  59865.2\n",
      "30        Waltham Forest  E09000031 1995-01-01  61319.4\n",
      "31            Wandsworth  E09000032 1995-01-01    88559\n",
      "32           Westminster  E09000033 1995-01-01   133025\n",
      "33           Unnamed: 34        NaN 1995-01-01      NaN\n",
      "34          Inner London  E13000001 1995-01-01    78252\n",
      "35          Outer London  E13000002 1995-01-01  72958.8\n",
      "36           Unnamed: 37        NaN 1995-01-01      NaN\n",
      "37            NORTH EAST  E12000001 1995-01-01  42076.4\n",
      "38            NORTH WEST  E12000002 1995-01-01  43958.5\n",
      "39    YORKS & THE HUMBER  E12000003 1995-01-01  44803.4\n",
      "40         EAST MIDLANDS  E12000004 1995-01-01  45544.5\n",
      "41         WEST MIDLANDS  E12000005 1995-01-01  48527.5\n",
      "42       EAST OF ENGLAND  E12000006 1995-01-01  56701.6\n",
      "43                LONDON  E12000007 1995-01-01  74435.8\n",
      "44            SOUTH EAST  E12000008 1995-01-01  64018.9\n",
      "45            SOUTH WEST  E12000009 1995-01-01  54705.2\n",
      "46           Unnamed: 47        NaN 1995-01-01      NaN\n",
      "47               England  E92000001 1995-01-01  53202.8\n",
      "48        City of London  E09000001 1995-02-01  82202.8\n",
      "49    Barking & Dagenham  E09000002 1995-02-01  51085.8\n",
      "50                Barnet  E09000003 1995-02-01  93190.2\n"
     ]
    }
   ],
   "source": [
    "prop_melt = properties.melt(id_vars=['Borough','ID'], var_name='Date',value_name='Price')\n",
    "print(prop_melt.head(51))"
   ]
  },
  {
   "cell_type": "markdown",
   "metadata": {
    "colab_type": "text",
    "id": "7kIsgAo7o3mf"
   },
   "source": [
    "Remember to make sure your column data types are all correct. Average prices, for example, should be floating point numbers... "
   ]
  },
  {
   "cell_type": "code",
   "execution_count": 7,
   "metadata": {
    "colab": {},
    "colab_type": "code",
    "id": "ZcR4IHbcpOaq"
   },
   "outputs": [
    {
     "data": {
      "text/plain": [
       "count                   14832\n",
       "unique                    309\n",
       "top       2020-09-01 00:00:00\n",
       "freq                       48\n",
       "first     1995-01-01 00:00:00\n",
       "last      2020-09-01 00:00:00\n",
       "Name: Date, dtype: object"
      ]
     },
     "execution_count": 7,
     "metadata": {},
     "output_type": "execute_result"
    }
   ],
   "source": [
    "prop_melt['Date'].describe()"
   ]
  },
  {
   "cell_type": "code",
   "execution_count": 8,
   "metadata": {},
   "outputs": [
    {
     "data": {
      "text/plain": [
       "count     13905.00000\n",
       "unique    13905.00000\n",
       "top       98302.97736\n",
       "freq          1.00000\n",
       "Name: Price, dtype: float64"
      ]
     },
     "execution_count": 8,
     "metadata": {},
     "output_type": "execute_result"
    }
   ],
   "source": [
    "prop_melt['Price'].describe()"
   ]
  },
  {
   "cell_type": "code",
   "execution_count": 9,
   "metadata": {},
   "outputs": [
    {
     "data": {
      "text/plain": [
       "array(['City of London', 'Barking & Dagenham', 'Barnet', 'Bexley',\n",
       "       'Brent', 'Bromley', 'Camden', 'Croydon', 'Ealing', 'Enfield',\n",
       "       'Greenwich', 'Hackney', 'Hammersmith & Fulham', 'Haringey',\n",
       "       'Harrow', 'Havering', 'Hillingdon', 'Hounslow', 'Islington',\n",
       "       'Kensington & Chelsea', 'Kingston upon Thames', 'Lambeth',\n",
       "       'Lewisham', 'Merton', 'Newham', 'Redbridge',\n",
       "       'Richmond upon Thames', 'Southwark', 'Sutton', 'Tower Hamlets',\n",
       "       'Waltham Forest', 'Wandsworth', 'Westminster', 'Unnamed: 34',\n",
       "       'Inner London', 'Outer London', 'Unnamed: 37', 'NORTH EAST',\n",
       "       'NORTH WEST', 'YORKS & THE HUMBER', 'EAST MIDLANDS',\n",
       "       'WEST MIDLANDS', 'EAST OF ENGLAND', 'LONDON', 'SOUTH EAST',\n",
       "       'SOUTH WEST', 'Unnamed: 47', 'England'], dtype=object)"
      ]
     },
     "execution_count": 9,
     "metadata": {},
     "output_type": "execute_result"
    }
   ],
   "source": [
    "prop_melt.Borough.unique()"
   ]
  },
  {
   "cell_type": "code",
   "execution_count": 10,
   "metadata": {},
   "outputs": [
    {
     "data": {
      "text/plain": [
       "array(['E09000001', 'E09000002', 'E09000003', 'E09000004', 'E09000005',\n",
       "       'E09000006', 'E09000007', 'E09000008', 'E09000009', 'E09000010',\n",
       "       'E09000011', 'E09000012', 'E09000013', 'E09000014', 'E09000015',\n",
       "       'E09000016', 'E09000017', 'E09000018', 'E09000019', 'E09000020',\n",
       "       'E09000021', 'E09000022', 'E09000023', 'E09000024', 'E09000025',\n",
       "       'E09000026', 'E09000027', 'E09000028', 'E09000029', 'E09000030',\n",
       "       'E09000031', 'E09000032', 'E09000033', nan, 'E13000001',\n",
       "       'E13000002', 'E12000001', 'E12000002', 'E12000003', 'E12000004',\n",
       "       'E12000005', 'E12000006', 'E12000007', 'E12000008', 'E12000009',\n",
       "       'E92000001'], dtype=object)"
      ]
     },
     "execution_count": 10,
     "metadata": {},
     "output_type": "execute_result"
    }
   ],
   "source": [
    "prop_melt['ID'].unique()"
   ]
  },
  {
   "cell_type": "markdown",
   "metadata": {
    "colab_type": "text",
    "id": "knLUXHLypOtw"
   },
   "source": [
    "**2.5. Cleaning the data (part 3)**\n",
    "\n",
    "Do we have an equal number of observations in the ID, Average Price, Month, and London Borough columns? Remember that there are only 32 London Boroughs. How many entries do you have in that column? \n",
    "\n",
    "Check out the contents of the London Borough column, and if you find null values, get rid of them however you see fit. "
   ]
  },
  {
   "cell_type": "code",
   "execution_count": 11,
   "metadata": {
    "colab": {},
    "colab_type": "code",
    "id": "BnvTW5a3p0fC"
   },
   "outputs": [],
   "source": [
    "# Get indexes where name column has non-boroughs\n",
    "# Surely there is a more pythonic way of doing this?\n",
    "cityofLondon = prop_melt[prop_melt['Borough'] == 'City of London'].index\n",
    "unnamed34 = prop_melt[prop_melt['Borough'] == 'Unnamed: 34'].index\n",
    "unnamed37 = prop_melt[prop_melt['Borough'] == 'Unnamed: 37'].index\n",
    "unnamed47 = prop_melt[prop_melt['Borough'] == 'Unnamed: 47'].index\n",
    "northeast = prop_melt[prop_melt['Borough'] == 'NORTH EAST'].index\n",
    "northwest = prop_melt[prop_melt['Borough'] == 'NORTH WEST'].index\n",
    "southeast = prop_melt[prop_melt['Borough'] == 'SOUTH EAST'].index\n",
    "southwest = prop_melt[prop_melt['Borough'] == 'SOUTH WEST'].index\n",
    "eastmidlands = prop_melt[prop_melt['Borough'] == 'EAST MIDLANDS'].index\n",
    "westmidlands = prop_melt[prop_melt['Borough'] == 'WEST MIDLANDS'].index\n",
    "eastofengland = prop_melt[prop_melt['Borough'] == 'EAST OF ENGLAND'].index\n",
    "innerlondon = prop_melt[prop_melt['Borough'] == 'Inner London'].index\n",
    "outerlondon = prop_melt[prop_melt['Borough'] == 'Outer London'].index\n",
    "london = prop_melt[prop_melt['Borough'] == 'LONDON'].index\n",
    "england = prop_melt[prop_melt['Borough'] == 'England'].index\n",
    "yorks = prop_melt[prop_melt['Borough'] == 'YORKS & THE HUMBER'].index\n",
    " \n",
    "# Delete these row indexes from dataFrame\n",
    "prop_melt.drop(cityofLondon, inplace=True)\n",
    "prop_melt.drop(unnamed34, inplace=True)\n",
    "prop_melt.drop(unnamed37, inplace=True)\n",
    "prop_melt.drop(unnamed47, inplace=True)\n",
    "prop_melt.drop(northeast, inplace=True)\n",
    "prop_melt.drop(northwest, inplace=True)\n",
    "prop_melt.drop(southeast, inplace=True)\n",
    "prop_melt.drop(southwest, inplace=True)\n",
    "prop_melt.drop(eastmidlands, inplace=True)\n",
    "prop_melt.drop(westmidlands, inplace=True)\n",
    "prop_melt.drop(eastofengland, inplace=True)\n",
    "prop_melt.drop(innerlondon, inplace=True)\n",
    "prop_melt.drop(outerlondon, inplace=True)\n",
    "prop_melt.drop(london, inplace=True)\n",
    "prop_melt.drop(england, inplace=True)\n",
    "prop_melt.drop(yorks, inplace=True)\n",
    "\n",
    "prop_melt = prop_melt.reset_index()"
   ]
  },
  {
   "cell_type": "code",
   "execution_count": 16,
   "metadata": {},
   "outputs": [
    {
     "data": {
      "text/plain": [
       "array(['Barking & Dagenham', 'Barnet', 'Bexley', 'Brent', 'Bromley',\n",
       "       'Camden', 'Croydon', 'Ealing', 'Enfield', 'Greenwich', 'Hackney',\n",
       "       'Hammersmith & Fulham', 'Haringey', 'Harrow', 'Havering',\n",
       "       'Hillingdon', 'Hounslow', 'Islington', 'Kensington & Chelsea',\n",
       "       'Kingston upon Thames', 'Lambeth', 'Lewisham', 'Merton', 'Newham',\n",
       "       'Redbridge', 'Richmond upon Thames', 'Southwark', 'Sutton',\n",
       "       'Tower Hamlets', 'Waltham Forest', 'Wandsworth', 'Westminster'],\n",
       "      dtype=object)"
      ]
     },
     "execution_count": 16,
     "metadata": {},
     "output_type": "execute_result"
    }
   ],
   "source": [
    "prop_melt.Borough.unique()"
   ]
  },
  {
   "cell_type": "markdown",
   "metadata": {
    "colab_type": "text",
    "id": "PGEx6mJsp6dG"
   },
   "source": [
    "**2.6. Visualizing the data**\n",
    "\n",
    "To visualize the data, why not subset on a particular London Borough? Maybe do a line plot of Month against Average Price?"
   ]
  },
  {
   "cell_type": "code",
   "execution_count": 13,
   "metadata": {
    "colab": {},
    "colab_type": "code",
    "id": "nAg5pT9cqHAR"
   },
   "outputs": [
    {
     "data": {
      "image/png": "[encoded data removed]",
      "text/plain": [
       "<Figure size 432x288 with 2 Axes>"
      ]
     },
     "metadata": {
      "needs_background": "light"
     },
     "output_type": "display_data"
    }
   ],
   "source": [
    "# Receive ax1 and ax2 - note that they go in parens\n",
    "fig, (ax1, ax2) = plt.subplots(nrows=2, ncols=1, sharex=True, sharey=True)\n",
    "\n",
    "# Use ax1 to plot Bhutan\n",
    "prop_melt[prop_melt['Borough'] == 'Merton'].plot(x='Date', y='Price', legend=False, ax=ax1)\n",
    "ax1.set_title(\"Merton Average Prices by Year\")\n",
    "\n",
    "# Use ax2 to plot Iran\n",
    "prop_melt[prop_melt['Borough'] == 'Barnet'].plot(x='Date', y='Price', legend=False, ax=ax2)\n",
    "ax2.set_title(\"Barnet Average Prices by Year\")\n",
    "\n",
    "# If you don't do tight_layout() you'll have weird overlaps\n",
    "plt.tight_layout()"
   ]
  },
  {
   "cell_type": "code",
   "execution_count": 14,
   "metadata": {},
   "outputs": [
    {
     "data": {
      "text/html": [
       "<div>\n",
       "<style scoped>\n",
       "    .dataframe tbody tr th:only-of-type {\n",
       "        vertical-align: middle;\n",
       "    }\n",
       "\n",
       "    .dataframe tbody tr th {\n",
       "        vertical-align: top;\n",
       "    }\n",
       "\n",
       "    .dataframe thead th {\n",
       "        text-align: right;\n",
       "    }\n",
       "</style>\n",
       "<table border=\"1\" class=\"dataframe\">\n",
       "  <thead>\n",
       "    <tr style=\"text-align: right;\">\n",
       "      <th></th>\n",
       "      <th>index</th>\n",
       "      <th>Borough</th>\n",
       "      <th>ID</th>\n",
       "      <th>Date</th>\n",
       "      <th>Price</th>\n",
       "      <th>year</th>\n",
       "    </tr>\n",
       "  </thead>\n",
       "  <tbody>\n",
       "    <tr>\n",
       "      <th>0</th>\n",
       "      <td>1</td>\n",
       "      <td>Barking &amp; Dagenham</td>\n",
       "      <td>E09000002</td>\n",
       "      <td>1995-01-01</td>\n",
       "      <td>50460.2</td>\n",
       "      <td>1995</td>\n",
       "    </tr>\n",
       "    <tr>\n",
       "      <th>1</th>\n",
       "      <td>2</td>\n",
       "      <td>Barnet</td>\n",
       "      <td>E09000003</td>\n",
       "      <td>1995-01-01</td>\n",
       "      <td>93284.5</td>\n",
       "      <td>1995</td>\n",
       "    </tr>\n",
       "    <tr>\n",
       "      <th>2</th>\n",
       "      <td>3</td>\n",
       "      <td>Bexley</td>\n",
       "      <td>E09000004</td>\n",
       "      <td>1995-01-01</td>\n",
       "      <td>64958.1</td>\n",
       "      <td>1995</td>\n",
       "    </tr>\n",
       "    <tr>\n",
       "      <th>3</th>\n",
       "      <td>4</td>\n",
       "      <td>Brent</td>\n",
       "      <td>E09000005</td>\n",
       "      <td>1995-01-01</td>\n",
       "      <td>71306.6</td>\n",
       "      <td>1995</td>\n",
       "    </tr>\n",
       "    <tr>\n",
       "      <th>4</th>\n",
       "      <td>5</td>\n",
       "      <td>Bromley</td>\n",
       "      <td>E09000006</td>\n",
       "      <td>1995-01-01</td>\n",
       "      <td>81671.5</td>\n",
       "      <td>1995</td>\n",
       "    </tr>\n",
       "  </tbody>\n",
       "</table>\n",
       "</div>"
      ],
      "text/plain": [
       "   index             Borough         ID       Date    Price  year\n",
       "0      1  Barking & Dagenham  E09000002 1995-01-01  50460.2  1995\n",
       "1      2              Barnet  E09000003 1995-01-01  93284.5  1995\n",
       "2      3              Bexley  E09000004 1995-01-01  64958.1  1995\n",
       "3      4               Brent  E09000005 1995-01-01  71306.6  1995\n",
       "4      5             Bromley  E09000006 1995-01-01  81671.5  1995"
      ]
     },
     "execution_count": 14,
     "metadata": {},
     "output_type": "execute_result"
    }
   ],
   "source": [
    "prop_melt['year'] = pd.DatetimeIndex(prop_melt['Date']).year\n",
    "prop_melt.head()"
   ]
  },
  {
   "cell_type": "markdown",
   "metadata": {
    "colab_type": "text",
    "id": "aWTPqSJeqHnC"
   },
   "source": [
    "To limit the number of data points you have, you might want to extract the year from every month value your *Month* column. \n",
    "\n",
    "To this end, you *could* apply a ***lambda function***. Your logic could work as follows:\n",
    "1. look through the `Month` column\n",
    "2. extract the year from each individual value in that column \n",
    "3. store that corresponding year as separate column. \n",
    "\n",
    "Whether you go ahead with this is up to you. Just so long as you answer our initial brief: which boroughs of London have seen the greatest house price increase, on average, over the past two decades? "
   ]
  },
  {
   "cell_type": "code",
   "execution_count": 113,
   "metadata": {},
   "outputs": [
    {
     "name": "stdout",
     "output_type": "stream",
     "text": [
      "Hillingdon\n",
      "0.18078263751120188\n",
      "Waltham Forest\n",
      "0.1378958710565876\n",
      "Hammersmith & Fulham\n",
      "0.17217654715455513\n",
      "Richmond upon Thames\n",
      "0.16187238497923825\n",
      "Kingston upon Thames\n",
      "0.16880717097858314\n",
      "Havering\n",
      "0.18472847721676675\n",
      "Lewisham\n",
      "0.1407740860922701\n",
      "Kensington & Chelsea\n",
      "0.1461887563487888\n",
      "Brent\n",
      "0.1530205750333011\n",
      "Barking & Dagenham\n",
      "0.17225579556026033\n",
      "Lambeth\n",
      "0.12955703528030346\n",
      "Hackney\n",
      "0.11365080370802692\n",
      "Westminster\n",
      "0.13749024936033932\n",
      "Tower Hamlets\n",
      "0.14032531515367266\n",
      "Merton\n",
      "0.15543240889700774\n",
      "Enfield\n",
      "0.18338968788159596\n",
      "Barnet\n",
      "0.17527793185643\n",
      "Camden\n",
      "0.14436270734504156\n",
      "Haringey\n",
      "0.14453074865276616\n",
      "Islington\n",
      "0.14383857735441388\n",
      "Hounslow\n",
      "0.17984438649125647\n",
      "Bexley\n",
      "0.1884167774389863\n",
      "Bromley\n",
      "0.18892069825350988\n",
      "Newham\n",
      "0.14595587031998408\n",
      "Southwark\n",
      "0.12678025367538123\n",
      "Wandsworth\n",
      "0.14716785235872962\n",
      "Harrow\n",
      "0.185360425001513\n",
      "Ealing\n",
      "0.16957916196114425\n",
      "Redbridge\n",
      "0.17261859439404467\n",
      "Greenwich\n",
      "0.16066664462807742\n",
      "Sutton\n",
      "0.18739478560822664\n",
      "Croydon\n",
      "0.18539946441971383\n"
     ]
    }
   ],
   "source": [
    "def create_price_ratio(dataframe, borough):\n",
    "    df = dataframe[dataframe['Borough'] == borough]\n",
    "    y1_avg = float(df[df['year'] == 1995]['Price'].mean())\n",
    "    y2_avg = float(df[df['year'] == 2020]['Price'].mean())\n",
    "    ratio = y1_avg / y2_avg\n",
    "    return ratio\n",
    "\n",
    "\n",
    "boroughs = set(prop_melt['Borough'])\n",
    "#ratio_list = []\n",
    "\n",
    "\n",
    "for borough in boroughs:\n",
    "    print(borough)\n",
    "    print(create_price_ratio(prop_melt,borough))\n"
   ]
  },
  {
   "cell_type": "markdown",
   "metadata": {
    "colab_type": "text",
    "id": "2knuTxAEqoJ4"
   },
   "source": [
    "**3. Modeling**\n",
    "\n",
    "Consider creating a function that will calculate a ratio of house prices, comparing the price of a house in 2018 to the price in 1998.\n",
    "\n",
    "Consider calling this function create_price_ratio.\n",
    "\n",
    "You'd want this function to:\n",
    "1. Take a filter of dfg, specifically where this filter constrains the London_Borough, as an argument. For example, one admissible argument should be: dfg[dfg['London_Borough']=='Camden'].\n",
    "2. Get the Average Price for that Borough, for the years 1998 and 2018.\n",
    "4. Calculate the ratio of the Average Price for 1998 divided by the Average Price for 2018.\n",
    "5. Return that ratio.\n",
    "\n",
    "Once you've written this function, you ultimately want to use it to iterate through all the unique London_Boroughs and work out the ratio capturing the difference of house prices between 1998 and 2018.\n",
    "\n",
    "Bear in mind: you don't have to write a function like this if you don't want to. If you can solve the brief otherwise, then great! \n",
    "\n",
    "***Hint***: This section should test the skills you acquired in:\n",
    "- Python Data Science Toolbox - Part One, all modules"
   ]
  },
  {
   "cell_type": "code",
   "execution_count": 89,
   "metadata": {
    "colab": {},
    "colab_type": "code",
    "id": "cKTyr437UgDa"
   },
   "outputs": [
    {
     "name": "stdout",
     "output_type": "stream",
     "text": [
      "Hillingdon\n",
      "0.23807975835429931\n",
      "Waltham Forest\n",
      "0.1713867782439487\n",
      "Hammersmith & Fulham\n",
      "0.24167443054605853\n",
      "Richmond upon Thames\n",
      "0.24967779731157863\n",
      "Kingston upon Thames\n",
      "0.23416190234282552\n",
      "Havering\n",
      "0.23120155787014757\n",
      "Lewisham\n",
      "0.1835124676472171\n",
      "Kensington & Chelsea\n",
      "0.19675491852791563\n",
      "Brent\n",
      "0.2043086864360114\n",
      "Barking & Dagenham\n",
      "0.20422256235393685\n",
      "Lambeth\n",
      "0.20170435486140822\n",
      "Hackney\n",
      "0.16133493530705734\n",
      "Westminster\n",
      "0.18679140473024677\n",
      "Tower Hamlets\n",
      "0.2161367227623553\n",
      "Merton\n",
      "0.21091380604361798\n",
      "Enfield\n",
      "0.23455064269011863\n",
      "Barnet\n",
      "0.22945274120785797\n",
      "Camden\n",
      "0.20261973503252542\n",
      "Haringey\n",
      "0.19475619095546956\n",
      "Islington\n",
      "0.20643891170300285\n",
      "Hounslow\n",
      "0.25148317824115635\n",
      "Bexley\n",
      "0.2353507654063011\n",
      "Bromley\n",
      "0.24421308489837312\n",
      "Newham\n",
      "0.18848754146121072\n",
      "Southwark\n",
      "0.18127484171283462\n",
      "Wandsworth\n",
      "0.2101851809159322\n",
      "Harrow\n",
      "0.24635417785626296\n",
      "Ealing\n",
      "0.23194048191708755\n",
      "Redbridge\n",
      "0.2236545053715767\n",
      "Greenwich\n",
      "0.20995010893854218\n",
      "Sutton\n",
      "0.24280551426824518\n",
      "Croydon\n",
      "0.23803288028014047\n"
     ]
    }
   ],
   "source": [
    "def create_price_ratio(dataframe, borough):\n",
    "    df = dataframe[dataframe['Borough'] == borough]\n",
    "    y1_avg = float(df[df['year'] == 1998]['Price'].mean())\n",
    "    y2_avg = float(df[df['year'] == 2018]['Price'].mean())\n",
    "    ratio = y1_avg / y2_avg\n",
    "    return ratio\n",
    "\n",
    "boroughs = set(prop_melt['Borough'])\n",
    "\n",
    "for borough in boroughs:\n",
    "    print(borough)\n",
    "    print(create_price_ratio(prop_melt, borough))"
   ]
  },
  {
   "cell_type": "markdown",
   "metadata": {
    "colab_type": "text",
    "id": "NzYUI7FxJpgv"
   },
   "source": [
    "### 4. Conclusion\n",
    "What can you conclude? Type out your conclusion below. \n",
    "\n",
    "Look back at your notebook. Think about how you might summarize what you have done, and prepare a quick presentation on it to your mentor at your next meeting. \n",
    "\n",
    "We hope you enjoyed this practical project. It should have consolidated your data hygiene and pandas skills by looking at a real-world problem involving just the kind of dataset you might encounter as a budding data scientist. Congratulations, and looking forward to seeing you at the next step in the course! "
   ]
  },
  {
   "cell_type": "markdown",
   "metadata": {},
   "source": [
    "(3) After making visualizing two of the boroughs, I opted to use a function to determine growth rather than plotting out all of the boroughs. I determined Hackney borough to have the highest growth on average from 1995 to 2020. I created a formula that would find the ratio from the 2020 price to 1995 price of each borough in London. A lower ratio signals a higher amount of growth, and Hackney had the lowest ratio at 0.11."
   ]
  }
 ],
 "metadata": {
  "colab": {
   "collapsed_sections": [],
   "name": "Springboard Data Science Career Track Unit 4 Challenge - Tier 3 Complete .ipynb",
   "provenance": []
  },
  "kernelspec": {
   "display_name": "Python 3",
   "language": "python",
   "name": "python3"
  },
  "language_info": {
   "codemirror_mode": {
    "name": "ipython",
    "version": 3
   },
   "file_extension": ".py",
   "mimetype": "text/x-python",
   "name": "python",
   "nbconvert_exporter": "python",
   "pygments_lexer": "ipython3",
   "version": "3.8.3"
  }
 },
 "nbformat": 4,
 "nbformat_minor": 1
}
